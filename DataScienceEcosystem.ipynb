{
 "cells": [
  {
   "cell_type": "markdown",
   "id": "9f042955-8be3-4294-befe-9aa4f8c252a9",
   "metadata": {},
   "source": [
    "# Data Science Tools and Ecosystem"
   ]
  },
  {
   "attachments": {},
   "cell_type": "markdown",
   "id": "c662906a-fcbd-45f4-b33a-268a432ef87a",
   "metadata": {},
   "source": [
    "In this notebook, Data Science Tools and Ecosystem are summarized."
   ]
  },
  {
   "cell_type": "markdown",
   "id": "01129130-3ae6-49cf-b91d-47b3e9760f5f",
   "metadata": {},
   "source": [
    "__Objectives:__\n",
    "- List popular languages for Data Science\n",
    "- Introduce jupyter Notebook\n",
    "- Introduce R and Rstudio\n",
    "- Introduce Git"
   ]
  },
  {
   "cell_type": "markdown",
   "id": "a46559be-803b-4820-bfd3-d753a44068e0",
   "metadata": {},
   "source": [
    "## Author\n",
    "Luna"
   ]
  },
  {
   "cell_type": "markdown",
   "id": "e3a8e449-204b-4d7b-8c7d-4d1eb6f0c033",
   "metadata": {},
   "source": [
    "Some of the popular languages that Data Scientists use are:\n",
    "- Python\n",
    "- R\n",
    "- SQL"
   ]
  },
  {
   "cell_type": "markdown",
   "id": "c6a41aa8-d52d-4cd6-b354-42408dcfb86b",
   "metadata": {},
   "source": [
    "Some of the commonly used libraries used by Data Scientists include:\n",
    "- NumPy\n",
    "- Pandas\n",
    "- Scikit-learn"
   ]
  },
  {
   "cell_type": "markdown",
   "id": "132eaf9f-b193-47e8-ba8b-53c66ed30f3b",
   "metadata": {},
   "source": [
    "|Data Science Tools|\n",
    "| --- |\n",
    "|R studio|\n",
    "|Tensorflow|\n",
    "|Jupyter notebook|"
   ]
  },
  {
   "cell_type": "markdown",
   "id": "2e23aec1-29c7-4309-b4a5-817f923a61b7",
   "metadata": {},
   "source": [
    "### Below are a few examples of evaluating arithmetic expressions in Python"
   ]
  },
  {
   "cell_type": "code",
   "execution_count": 1,
   "id": "6f02e436-10a0-45c2-b75d-0a8b54f40b5e",
   "metadata": {},
   "outputs": [
    {
     "name": "stdout",
     "output_type": "stream",
     "text": [
      "17\n"
     ]
    }
   ],
   "source": [
    "# This a simple arithmetic expression to mutiply then add integers\n",
    "a = (3*4)+5\n",
    "print(a)"
   ]
  },
  {
   "cell_type": "code",
   "execution_count": 6,
   "id": "87fe4b57-e3b5-4dbd-85c9-a047c1d0876f",
   "metadata": {},
   "outputs": [
    {
     "name": "stdout",
     "output_type": "stream",
     "text": [
      "3.3333333333333335\n"
     ]
    }
   ],
   "source": [
    "# This will convert 200 minutes to hours by diving by 60\n",
    "b = 200/60\n",
    "print(b)"
   ]
  },
  {
   "cell_type": "code",
   "execution_count": null,
   "id": "030d595a-2f72-4936-a7d5-e57ffd3625c2",
   "metadata": {},
   "outputs": [],
   "source": []
  }
 ],
 "metadata": {
  "kernelspec": {
   "display_name": "Python 3 (ipykernel)",
   "language": "python",
   "name": "python3"
  },
  "language_info": {
   "codemirror_mode": {
    "name": "ipython",
    "version": 3
   },
   "file_extension": ".py",
   "mimetype": "text/x-python",
   "name": "python",
   "nbconvert_exporter": "python",
   "pygments_lexer": "ipython3",
   "version": "3.12.8"
  }
 },
 "nbformat": 4,
 "nbformat_minor": 5
}
